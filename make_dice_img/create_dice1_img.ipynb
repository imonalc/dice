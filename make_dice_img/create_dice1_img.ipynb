{
 "cells": [
  {
   "cell_type": "code",
   "execution_count": 1,
   "metadata": {},
   "outputs": [],
   "source": [
    "from PIL import Image\n",
    "import numpy as np\n",
    "import random\n"
   ]
  },
  {
   "cell_type": "code",
   "execution_count": 2,
   "metadata": {},
   "outputs": [],
   "source": [
    "for idx_dice in range(1, 7):\n",
    "    # 読み込み\n",
    "    image_path = f'./dice_samples/sample_dice1_{idx_dice}.png'\n",
    "    original_image = Image.open(image_path)\n",
    "    \n",
    "    # ダウンスケーリング\n",
    "    downscaled_size = (700, 700)\n",
    "    downscaled_image = original_image.resize(downscaled_size)\n",
    "    num_img = 100\n",
    "    for idx_img in range(num_img):\n",
    "        # 背景画像生成\n",
    "        background_size = (2000, 2000)\n",
    "        background = Image.new(\"RGB\", background_size, (0, 0, 0))\n",
    "\n",
    "        # ランダムな角度で画像を回転\n",
    "        random_angle = random.randint(0, 360)\n",
    "        rotated_image = downscaled_image.rotate(random_angle, expand=True)\n",
    "\n",
    "        # 回転後の画像サイズを取得\n",
    "        rotated_size = rotated_image.size\n",
    "\n",
    "        # 回転後の画像が背景内に収まるように座標を制限する\n",
    "        max_x_rotated = background_size[0] - rotated_size[0]\n",
    "        max_y_rotated = background_size[1] - rotated_size[1]\n",
    "\n",
    "        # 座標が負にならないようにする\n",
    "        max_x_rotated = max(max_x_rotated, 0)\n",
    "        max_y_rotated = max(max_y_rotated, 0)\n",
    "\n",
    "        # 回転後の画像を配置するランダムな位置を決定\n",
    "        random_x_rotated = random.randint(0, max_x_rotated)\n",
    "        random_y_rotated = random.randint(0, max_y_rotated)\n",
    "\n",
    "        # 新しい黒い背景画像を生成（前の画像は破棄）\n",
    "        background_rotated = Image.new(\"RGB\", background_size, (0, 0, 0))\n",
    "\n",
    "        # 回転した画像を背景に合成\n",
    "        background_rotated.paste(rotated_image, (random_x_rotated, random_y_rotated))\n",
    "\n",
    "        # 合成された画像をグレースケールに変換\n",
    "        grayscale_image_rotated = background_rotated.convert(\"L\")\n",
    "\n",
    "        # グレースケール画像を表示\n",
    "        #grayscale_image_rotated.show()\n",
    "\n",
    "        # グレースケール画像のパス\n",
    "        grayscale_image_high_path = f'./output/high_resolution/dice1_{idx_dice}_img/grayscale_image{idx_img}.png'\n",
    "        grayscale_image_rotated.save(grayscale_image_high_path)\n",
    "\n",
    "\n",
    "        grayscale_image_rotated_low = grayscale_image_rotated.resize((20, 20))\n",
    "        grayscale_image_low_path = f'./output/low_resolution/dice1_{idx_dice}_img/grayscale_image{idx_img}.png'\n",
    "        grayscale_image_rotated_low.save(grayscale_image_low_path)\n"
   ]
  }
 ],
 "metadata": {
  "kernelspec": {
   "display_name": "Python 3",
   "language": "python",
   "name": "python3"
  },
  "language_info": {
   "codemirror_mode": {
    "name": "ipython",
    "version": 3
   },
   "file_extension": ".py",
   "mimetype": "text/x-python",
   "name": "python",
   "nbconvert_exporter": "python",
   "pygments_lexer": "ipython3",
   "version": "3.7.16"
  }
 },
 "nbformat": 4,
 "nbformat_minor": 2
}
