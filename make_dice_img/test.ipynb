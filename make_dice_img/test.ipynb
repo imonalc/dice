{
 "cells": [
  {
   "cell_type": "code",
   "execution_count": 35,
   "metadata": {},
   "outputs": [],
   "source": [
    "from PIL import Image\n",
    "import numpy as np\n",
    "import random\n",
    "import math\n"
   ]
  },
  {
   "cell_type": "code",
   "execution_count": 45,
   "metadata": {},
   "outputs": [],
   "source": [
    "# 読み込み\n",
    "image_path = './dice_samples/sample_dice1_1.png'\n",
    "original_image = Image.open(image_path)\n",
    "\n",
    "# ダウンスケーリング\n",
    "downscaled_size = (600, 600)\n",
    "downscaled_image = original_image.resize(downscaled_size).convert('RGBA')\n"
   ]
  },
  {
   "cell_type": "code",
   "execution_count": 46,
   "metadata": {},
   "outputs": [
    {
     "name": "stdout",
     "output_type": "stream",
     "text": [
      "RGBA\n"
     ]
    }
   ],
   "source": [
    "print(original_image.mode)\n"
   ]
  },
  {
   "cell_type": "code",
   "execution_count": 42,
   "metadata": {},
   "outputs": [],
   "source": [
    "# 回転行列を用いて各頂点の座標を計算\n",
    "def rotate_point(x, y, theta, cx, cy):\n",
    "    x -= cx\n",
    "    y -= cy\n",
    "    x_new = x * math.cos(theta) - y * math.sin(theta)\n",
    "    y_new = x * math.sin(theta) + y * math.cos(theta)\n",
    "    return x_new + cx, y_new + cy\n",
    "\n",
    "\n",
    "def calculate_corners_cor(downscaled_size, random_angle, random_x_rotated, random_y_rotated):\n",
    "    # 回転角をラジアンに変換\n",
    "    theta = math.radians(random_angle)\n",
    "    # 画像の中心を基準とする\n",
    "    cx, cy = downscaled_size[0] / 2, downscaled_size[1] / 2\n",
    "    # 元の画像の四隅の座標\n",
    "    corners = [(0, 0), (downscaled_size[0], 0), (0, downscaled_size[1]), downscaled_size]\n",
    "    # 回転後の座標を計算し、画像の位置を加算\n",
    "    rotated_corners = [rotate_point(x, y, theta, cx, cy) for x, y in corners]\n",
    "    translated_rotated_corners = [(x + random_x_rotated, y + random_y_rotated) for x, y in rotated_corners]\n",
    "    \n",
    "    return translated_rotated_corners\n",
    "\n",
    "\n",
    "def paste_rotated_dice(background, background_size, downscaled_image):\n",
    "    # ランダムな角度で画像を回転\n",
    "    random_angle = random.randint(0, 360)\n",
    "    rotated_image = downscaled_image.rotate(random_angle, expand=True)\n",
    "    # 回転後の画像サイズを取得\n",
    "    rotated_size = rotated_image.size\n",
    "    # 回転後の画像が背景内に収まるように座標を制限する\n",
    "    max_x_rotated = background_size[0] - rotated_size[0]\n",
    "    max_y_rotated = background_size[1] - rotated_size[1]\n",
    "    # 座標が負にならないようにする\n",
    "    max_x_rotated = max(max_x_rotated, 0)\n",
    "    max_y_rotated = max(max_y_rotated, 0)\n",
    "    # 回転後の画像を配置するランダムな位置を決定\n",
    "    random_x_rotated = random.randint(0, max_x_rotated)\n",
    "    random_y_rotated = random.randint(0, max_y_rotated)\n",
    "    # 回転した画像を背景に合成\n",
    "    print(rotated_image.mode, background.mode)\n",
    "    background.paste(rotated_image, (random_x_rotated, random_y_rotated))\n",
    "\n",
    "    return background, random_angle, random_x_rotated, random_y_rotated\n"
   ]
  },
  {
   "cell_type": "code",
   "execution_count": 43,
   "metadata": {},
   "outputs": [
    {
     "name": "stdout",
     "output_type": "stream",
     "text": [
      "<PIL.Image.Image image mode=RGBA size=2000x2000 at 0x1EB21534D90>\n"
     ]
    }
   ],
   "source": [
    "print(background)\n"
   ]
  },
  {
   "cell_type": "code",
   "execution_count": 44,
   "metadata": {},
   "outputs": [
    {
     "name": "stdout",
     "output_type": "stream",
     "text": [
      "RGBA RGBA\n",
      "RGBA RGBA\n"
     ]
    }
   ],
   "source": [
    "# 背景画像生成\n",
    "background_size = (2000, 2000)\n",
    "background = Image.new(\"RGBA\", background_size, (0, 0, 0, 0))\n",
    "\n",
    "background, random_angle1, random_x_rotated1, random_y_rotated1 = paste_rotated_dice(background, background_size, downscaled_image)\n",
    "background, random_angle2, random_x_rotated2, random_y_rotated2 = paste_rotated_dice(background, background_size, downscaled_image)\n",
    "\n",
    "translated_rotated_corners = calculate_corners_cor(downscaled_size, random_angle1, random_x_rotated1, random_x_rotated1)\n",
    "\n",
    "\n",
    "# 合成された画像をグレースケールに変換\n",
    "grayscale_image_rotated = background.convert(\"L\")\n",
    "\n",
    "# グレースケール画像を表示\n",
    "grayscale_image_rotated.show()\n",
    "\n",
    "# グレースケール画像のパス\n",
    "grayscale_image_path = './output/dice1_1_img/grayscale_image.png'\n",
    "grayscale_image_rotated.save(grayscale_image_path)\n"
   ]
  },
  {
   "cell_type": "code",
   "execution_count": null,
   "metadata": {},
   "outputs": [],
   "source": [
    "\n",
    "\n",
    "# 回転角をラジアンに変換\n",
    "theta = math.radians(random_angle)\n",
    "\n",
    "# 画像の中心を基準とする\n",
    "cx, cy = downscaled_size[0] / 2, downscaled_size[1] / 2\n",
    "\n",
    "\n",
    "\n",
    "# 元の画像の四隅の座標\n",
    "corners = [(0, 0), (downscaled_size[0], 0), (0, downscaled_size[1]), downscaled_size]\n",
    "\n",
    "# 回転後の座標を計算し、画像の位置を加算\n",
    "rotated_corners = [rotate_point(x, y, theta, cx, cy) for x, y in corners]\n",
    "translated_rotated_corners = [(x + random_x_rotated, y + random_y_rotated) for x, y in rotated_corners]\n",
    "\n",
    "translated_rotated_corners\n",
    "\n"
   ]
  },
  {
   "cell_type": "code",
   "execution_count": null,
   "metadata": {},
   "outputs": [],
   "source": [
    "def orientation(p, q, r):\n",
    "    \"\"\"Return the orientation of the triplet (p, q, r)\n",
    "       0 --> p, q and r are collinear\n",
    "       1 --> Clockwise\n",
    "       2 --> Counterclockwise\n",
    "    \"\"\"\n",
    "    val = (q[1] - p[1]) * (r[0] - q[0]) - (q[0] - p[0]) * (r[1] - q[1])\n",
    "    if val == 0:\n",
    "        return 0  # collinear\n",
    "    return 1 if val > 0 else 2  # clock or counterclock wise\n",
    "\n",
    "def do_lines_intersect(p1, q1, p2, q2):\n",
    "    \"\"\"Returns True if the line segments 'p1q1' and 'p2q2' intersect.\"\"\"\n",
    "    # Find the four orientations needed for general and special cases\n",
    "    o1 = orientation(p1, q1, p2)\n",
    "    o2 = orientation(p1, q1, q2)\n",
    "    o3 = orientation(p2, q2, p1)\n",
    "    o4 = orientation(p2, q2, q1)\n",
    "\n",
    "    # General case\n",
    "    if o1 != o2 and o3 != o4:\n",
    "        return True\n",
    "\n",
    "    # Special Cases\n",
    "    # p1, q1 and p2 are collinear and p2 lies on segment p1q1\n",
    "    if o1 == 0 and on_segment(p1, p2, q1):\n",
    "        return True\n",
    "\n",
    "    # p1, q1 and p2 are collinear and q2 lies on segment p1q1\n",
    "    if o2 == 0 and on_segment(p1, q2, q1):\n",
    "        return True\n",
    "\n",
    "    # p2, q2 and p1 are collinear and p1 lies on segment p2q2\n",
    "    if o3 == 0 and on_segment(p2, p1, q2):\n",
    "        return True\n",
    "\n",
    "    # p2, q2 and q1 are collinear and q1 lies on segment p2q2\n",
    "    if o4 == 0 and on_segment(p2, q1, q2):\n",
    "        return True\n",
    "\n",
    "    return False  # Doesn't fall in any of the above cases\n",
    "\n",
    "def on_segment(p, q, r):\n",
    "    \"\"\"Given three collinear points p, q, and r, check if point q lies on line segment 'pr'\"\"\"\n",
    "    return (q[0] <= max(p[0], r[0]) and q[0] >= min(p[0], r[0]) and\n",
    "            q[1] <= max(p[1], r[1]) and q[1] >= min(p[1], r[1]))\n",
    "\n",
    "# Define points for two line segments: AB and CD\n",
    "A = (1, 1)\n",
    "B = (4, 4)\n",
    "C = (1, 8)\n",
    "D = (2, 2)\n",
    "\n",
    "# Check if line AB intersects with line CD\n",
    "do_lines_intersect(A, B, C, D)\n"
   ]
  },
  {
   "cell_type": "code",
   "execution_count": null,
   "metadata": {},
   "outputs": [],
   "source": [
    "print(rotated_size)\n"
   ]
  },
  {
   "cell_type": "code",
   "execution_count": null,
   "metadata": {},
   "outputs": [],
   "source": [
    "for idx_dice1 in range(1, 7):\n",
    "    for idx_dice2 in range(idx_dice1, 7):\n",
    "        continue\n"
   ]
  },
  {
   "cell_type": "code",
   "execution_count": null,
   "metadata": {},
   "outputs": [],
   "source": []
  },
  {
   "cell_type": "code",
   "execution_count": null,
   "metadata": {},
   "outputs": [],
   "source": [
    "# 読み込み\n",
    "image_path = './dice_samples/sample_dice1.png'\n",
    "original_image = Image.open(image_path)\n",
    "\n",
    "# ダウンスケーリング\n",
    "downscaled_size = (800, 800)\n",
    "downscaled_image = original_image.resize(downscaled_size)\n"
   ]
  },
  {
   "cell_type": "code",
   "execution_count": null,
   "metadata": {},
   "outputs": [],
   "source": [
    "# 背景画像生成\n",
    "background_size = (2000, 2000)\n",
    "background = Image.new(\"RGB\", background_size, (0, 0, 0))\n",
    "\n",
    "# ランダムな角度で画像を回転\n",
    "random_angle = random.randint(0, 360)\n",
    "rotated_image = downscaled_image.rotate(random_angle, expand=True)\n",
    "\n",
    "# 回転後の画像サイズを取得\n",
    "rotated_size = rotated_image.size\n",
    "\n",
    "# 回転後の画像が背景内に収まるように座標を制限する\n",
    "max_x_rotated = background_size[0] - rotated_size[0]\n",
    "max_y_rotated = background_size[1] - rotated_size[1]\n",
    "\n",
    "# 座標が負にならないようにする\n",
    "max_x_rotated = max(max_x_rotated, 0)\n",
    "max_y_rotated = max(max_y_rotated, 0)\n",
    "\n",
    "# 回転後の画像を配置するランダムな位置を決定\n",
    "random_x_rotated = random.randint(0, max_x_rotated)\n",
    "random_y_rotated = random.randint(0, max_y_rotated)\n",
    "\n",
    "# 新しい黒い背景画像を生成（前の画像は破棄）\n",
    "background_rotated = Image.new(\"RGB\", background_size, (0, 0, 0))\n",
    "\n",
    "# 回転した画像を背景に合成\n",
    "background_rotated.paste(rotated_image, (random_x_rotated, random_y_rotated))\n",
    "\n",
    "# 合成された画像をグレースケールに変換\n",
    "grayscale_image_rotated = background_rotated.convert(\"L\")\n",
    "\n",
    "# グレースケール画像を表示\n",
    "grayscale_image_rotated.show()\n",
    "\n",
    "# グレースケール画像のパス\n",
    "grayscale_image_path = './output/dice1_1_img/grayscale_image.png'\n",
    "grayscale_image_rotated.save(grayscale_image_path)\n"
   ]
  }
 ],
 "metadata": {
  "kernelspec": {
   "display_name": "Python 3",
   "language": "python",
   "name": "python3"
  },
  "language_info": {
   "codemirror_mode": {
    "name": "ipython",
    "version": 3
   },
   "file_extension": ".py",
   "mimetype": "text/x-python",
   "name": "python",
   "nbconvert_exporter": "python",
   "pygments_lexer": "ipython3",
   "version": "3.11.6"
  }
 },
 "nbformat": 4,
 "nbformat_minor": 2
}
