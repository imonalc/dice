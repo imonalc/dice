{
 "cells": [
  {
   "cell_type": "code",
   "execution_count": 136,
   "metadata": {},
   "outputs": [],
   "source": [
    "import pickle\n",
    "import cv2\n",
    "import numpy as np\n",
    "import matplotlib.pyplot as plt\n",
    "from PIL import Image\n",
    "import torch\n",
    "from ultralytics import YOLO\n",
    "import glob\n",
    "import matplotlib.pyplot as plt\n",
    "import csv"
   ]
  },
  {
   "cell_type": "code",
   "execution_count": 129,
   "metadata": {},
   "outputs": [],
   "source": [
    "X_train = np.load(\"./data_given/X_train.npy\")\n",
    "X_test = np.load(\"./data_given/X_test.npy\")\n",
    "y_train = np.load(\"./data_given/y_train.npy\")"
   ]
  },
  {
   "cell_type": "code",
   "execution_count": 130,
   "metadata": {},
   "outputs": [],
   "source": [
    "model = YOLO(\"./make_dice_img/runs/detect/train1000_100/weights/best.pt\") #学習したmodelを読み込み"
   ]
  },
  {
   "cell_type": "code",
   "execution_count": 131,
   "metadata": {},
   "outputs": [],
   "source": [
    "def count_num_white_pixels(img):\n",
    "    img_r = cv2.cvtColor(img, cv2.COLOR_BGR2GRAY) \n",
    "    img_r_uint8 = (img_r).astype(np.uint8)  # 0-1 の浮動小数点数を 0-255 の整数に変換\n",
    "    ret, th = cv2.threshold(img_r_uint8, 0, 255, cv2.THRESH_OTSU)\n",
    "    num_255s = np.count_nonzero(th == 255) # 白\n",
    "    return num_255s"
   ]
  },
  {
   "cell_type": "code",
   "execution_count": 132,
   "metadata": {},
   "outputs": [],
   "source": [
    "def validation():\n",
    "    names=model.names\n",
    "    num_train_img = X_train.shape[0]//100\n",
    "    correct = 1\n",
    "    errors = []\n",
    "    for idx_train_img in range(num_train_img):\n",
    "        X_train_1 = X_train[idx_train_img].reshape(20, 20)\n",
    "        img = np.stack((X_train_1.copy(),)*3, axis=-1)\n",
    "        pil_img = Image.fromarray(img.astype('uint8'), 'RGB')\n",
    "        resized_img = pil_img.resize((80, 80))\n",
    "        num_white_pixels = count_num_white_pixels(np.array(resized_img))\n",
    "\n",
    "        n_objects = 0\n",
    "        if num_white_pixels < 1200:\n",
    "            n_objects = 1\n",
    "        elif num_white_pixels < 2000:\n",
    "            n_objects = 2\n",
    "        else:\n",
    "            n_objects = 3\n",
    "\n",
    "        resize_flag = 0\n",
    "        if resize_flag:\n",
    "            pil_img = Image.fromarray(img.astype('uint8'), 'RGB')\n",
    "            resized_img = pil_img.resize((80, 80))\n",
    "            img = np.array(resized_img)\n",
    "        preds = model.predict(img,conf=0.1)\n",
    "        sum_dice = 0\n",
    "        num_dice = 0\n",
    "        true_value = y_train[idx_train_img:idx_train_img+1][0]\n",
    "        sorted_boxes = sorted(preds[0].boxes, key=lambda x: x.conf, reverse=True)\n",
    "        top_n_boxes = sorted_boxes[:n_objects]\n",
    "        for box in top_n_boxes:\n",
    "            label=names[box.cls.cpu().numpy()[0]]\n",
    "            dice_num = int(label[-1])\n",
    "            sum_dice += dice_num\n",
    "            num_dice += 1\n",
    "        if sum_dice == true_value:\n",
    "            correct += 1\n",
    "        else:\n",
    "            errors.append([idx_train_img, sum_dice, true_value, num_dice, n_objects, num_white_pixels])\n",
    "    print(correct)\n",
    "#validation()\n",
    "#print(errors)"
   ]
  },
  {
   "cell_type": "code",
   "execution_count": 137,
   "metadata": {},
   "outputs": [],
   "source": [
    "def calculate_dice_submit(X_test, model):\n",
    "    sum_dice_values = []\n",
    "    names=model.names\n",
    "    num_test_img = X_test.shape[0]\n",
    "    for idx_test_img in range(num_test_img):\n",
    "        X_train_1 = X_train[idx_test_img].reshape(20, 20)\n",
    "        img = np.stack((X_train_1.copy(),)*3, axis=-1)\n",
    "        pil_img = Image.fromarray(img.astype('uint8'), 'RGB')\n",
    "        resized_img = pil_img.resize((80, 80))\n",
    "        num_white_pixels = count_num_white_pixels(np.array(resized_img))\n",
    "\n",
    "        n_objects = 0\n",
    "        if num_white_pixels < 1200:\n",
    "            n_objects = 1\n",
    "        elif num_white_pixels < 2000:\n",
    "            n_objects = 2\n",
    "        else:\n",
    "            n_objects = 3\n",
    "\n",
    "        resize_flag = 0\n",
    "        if resize_flag:\n",
    "            pil_img = Image.fromarray(img.astype('uint8'), 'RGB')\n",
    "            resized_img = pil_img.resize((80, 80))\n",
    "            img = np.array(resized_img)\n",
    "        preds = model.predict(img,conf=0.1)\n",
    "        sum_dice = 0\n",
    "        num_dice = 0\n",
    "        sorted_boxes = sorted(preds[0].boxes, key=lambda x: x.conf, reverse=True)\n",
    "        top_n_boxes = sorted_boxes[:n_objects]\n",
    "        for box in top_n_boxes:\n",
    "            label=names[box.cls.cpu().numpy()[0]]\n",
    "            dice_num = int(label[-1])\n",
    "            sum_dice += dice_num\n",
    "            num_dice += 1\n",
    "        sum_dice_values.append(sum_dice)\n",
    "    return sum_dice_values\n",
    "\n",
    "def write_to_csv(file_name, sum_dice_values):\n",
    "    with open(file_name, mode='w', newline='') as file:\n",
    "        writer = csv.writer(file)\n",
    "        for i, sum_dice in enumerate(sum_dice_values):\n",
    "            writer.writerow([i, sum_dice])\n",
    "\n",
    "sum_dice_values = calculate_dice_submit(X_test, model)\n",
    "write_to_csv(\"output.csv\", sum_dice_values)\n",
    "\n",
    "#validation()\n",
    "#print(errors)"
   ]
  },
  {
   "cell_type": "code",
   "execution_count": 134,
   "metadata": {},
   "outputs": [
    {
     "name": "stdout",
     "output_type": "stream",
     "text": [
      "1515\n"
     ]
    },
    {
     "data": {
      "image/png": "[encoded data removed]",
      "text/plain": [
       "<Figure size 640x480 with 2 Axes>"
      ]
     },
     "metadata": {},
     "output_type": "display_data"
    }
   ],
   "source": [
    "i = 1995\n",
    "X_train_1 = X_train[i:i+1, :].reshape(20, 20)\n",
    "img = np.stack((X_train_1.copy(),)*3, axis=-1)\n",
    "pil_img = Image.fromarray(img.astype('uint8'), 'RGB')\n",
    "resized_img = pil_img.resize((80, 80))\n",
    "num_white_pixels = count_num_white_pixels(np.array(resized_img))\n",
    "print(num_white_pixels)\n",
    "\n",
    "\n",
    "img = np.stack((X_train_1.copy(),)*3, axis=-1)\n",
    "pil_img = Image.fromarray(img.astype('uint8'), 'RGB')\n",
    "resized_img = pil_img.resize((80, 80))\n",
    "resized_img_np = np.array(resized_img)\n",
    "plt.imshow(img, cmap=\"gray\")\n",
    "plt.colorbar()\n",
    "plt.show()"
   ]
  },
  {
   "cell_type": "code",
   "execution_count": null,
   "metadata": {},
   "outputs": [],
   "source": []
  },
  {
   "cell_type": "code",
   "execution_count": null,
   "metadata": {},
   "outputs": [],
   "source": []
  },
  {
   "cell_type": "code",
   "execution_count": null,
   "metadata": {},
   "outputs": [],
   "source": []
  },
  {
   "cell_type": "code",
   "execution_count": null,
   "metadata": {},
   "outputs": [],
   "source": []
  },
  {
   "cell_type": "code",
   "execution_count": null,
   "metadata": {},
   "outputs": [],
   "source": []
  },
  {
   "cell_type": "code",
   "execution_count": null,
   "metadata": {},
   "outputs": [],
   "source": []
  }
 ],
 "metadata": {
  "kernelspec": {
   "display_name": "Python 3",
   "language": "python",
   "name": "python3"
  },
  "language_info": {
   "codemirror_mode": {
    "name": "ipython",
    "version": 3
   },
   "file_extension": ".py",
   "mimetype": "text/x-python",
   "name": "python",
   "nbconvert_exporter": "python",
   "pygments_lexer": "ipython3",
   "version": "3.7.16"
  }
 },
 "nbformat": 4,
 "nbformat_minor": 2
}
